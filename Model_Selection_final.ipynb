{
 "cells": [
  {
   "cell_type": "markdown",
   "metadata": {},
   "source": [
    "## Project 4, Final Playground\n",
    "#### Listed here are the processed & modeled data\n"
   ]
  },
  {
   "cell_type": "code",
   "execution_count": 2,
   "metadata": {},
   "outputs": [],
   "source": [
    "#things to note:\n",
    "# k_fold cross validation & train test split \n",
    "# grid searched over multiple models, a bit of a shotguned method\n",
    "# auc/roc curve evaluation\n",
    "# final Kaggle submission"
   ]
  },
  {
   "cell_type": "code",
   "execution_count": 1,
   "metadata": {},
   "outputs": [],
   "source": [
    "%run -i ProcessPipeline.py"
   ]
  },
  {
   "cell_type": "code",
   "execution_count": 2,
   "metadata": {
    "scrolled": false
   },
   "outputs": [
    {
     "name": "stdout",
     "output_type": "stream",
     "text": [
      "0 (116293, 10)\n",
      "1 (116293, 13)\n",
      "3 (116293, 21)\n",
      "2 (116293, 38)\n",
      "CPU times: user 6min 58s, sys: 5.53 s, total: 7min 3s\n",
      "Wall time: 7min 3s\n"
     ]
    }
   ],
   "source": [
    "%%time\n",
    "\n",
    "FullTrain = pd.read_csv('./input/train.csv')\n",
    "Ftest = pd.read_csv('./input/test.csv', index_col= 0)\n",
    "\n",
    "FullTrain , Ftestpp = ProcessPipeline(FullTrain,Ftest)"
   ]
  },
  {
   "cell_type": "code",
   "execution_count": 3,
   "metadata": {},
   "outputs": [],
   "source": [
    "#Full Train is the data which we will use to improve our model and make predictions based on...\n",
    "FullTrain.to_csv('Pro_Train.csv', index = False)\n",
    "\n",
    "#make predictions based on the inputs from the Kaggle data, aka. Ftest2\n",
    "Ftestpp.to_csv('Pro_Test.csv', index = False)\n",
    "Ftest2 = Ftestpp.drop(['Date','Species','Trap','Location'], axis = 'columns')"
   ]
  },
  {
   "cell_type": "code",
   "execution_count": 3,
   "metadata": {},
   "outputs": [],
   "source": [
    "import matplotlib.pyplot as plt\n",
    "import seaborn as sns\n",
    "from sklearn.preprocessing import StandardScaler\n",
    "from sklearn.model_selection import train_test_split"
   ]
  },
  {
   "cell_type": "code",
   "execution_count": 5,
   "metadata": {},
   "outputs": [
    {
     "data": {
      "text/plain": [
       "Index(['NumMosquitos', 'WnvPresent', 'Date', 'Species', 'Trap', 'Latitude',\n",
       "       'Longitude', 'Location', 'CULEX PIPIENS', 'CULEX PIPIENS/RESTUANS',\n",
       "       'CULEX RESTUANS', 'CULEX SALINARIUS', 'CULEX TERRITANS',\n",
       "       'CULEX TARSALIS', 'CULEX ERRATICUS', 'W0', 'W1', 'W2', 'W3', 'P0', 'P1',\n",
       "       'P2', 'P3', 'DewPointamax', 'DewPointamin', 'DewPointmean',\n",
       "       'StnPressureamax', 'StnPressureamin', 'StnPressuremean', 'AvgSpeedamax',\n",
       "       'AvgSpeedamin', 'AvgSpeedmean', 'Tmaxamax', 'Tminamin', 'Tavgmean',\n",
       "       'PrecipTotalsum', 'PrecipTotalmean', 'temp_expected', 'temp_diff',\n",
       "       'sunset'],\n",
       "      dtype='object')"
      ]
     },
     "execution_count": 5,
     "metadata": {},
     "output_type": "execute_result"
    }
   ],
   "source": [
    "FullTrain.columns"
   ]
  },
  {
   "cell_type": "code",
   "execution_count": null,
   "metadata": {},
   "outputs": [],
   "source": [
    "#adding one-hot-encoded values...\n",
    "Traps = pd.get_dummies(df.Trap)\n",
    "df.join(Traps)"
   ]
  },
  {
   "cell_type": "code",
   "execution_count": 7,
   "metadata": {},
   "outputs": [],
   "source": [
    "target = FullTrain['WnvPresent']\n",
    "toDrop = ['Date', 'WnvPresent','Location','NumMosquitos','Species',\n",
    "          'Trap']\n",
    "\n",
    "#This is currently redundant, because the data is later kfold crossvalidated...\n",
    "X = FullTrain.drop(toDrop, axis = 'columns')\n",
    "X_train0, X_test0, y_train, y_test = train_test_split(X, target, test_size = .2)\n",
    "\n",
    "\n",
    "#scaled the values to range from 0-1 due to the impact of highly variable values \n",
    "#(eg. height can be measured in cm, and thus vary by the hundreds, while temp can only vary by a few degrees)\n",
    "ss = StandardScaler()\n",
    "X_train = ss.fit_transform(X_train0)\n",
    "X_test = ss.transform(X_test0)\n",
    "Xss = ss.fit_transform(X)\n",
    "Ftest2 = ss.transform(Ftest2)"
   ]
  },
  {
   "cell_type": "code",
   "execution_count": 25,
   "metadata": {},
   "outputs": [],
   "source": [
    "from sklearn.ensemble import RandomForestClassifier, GradientBoostingClassifier, BaggingClassifier, AdaBoostClassifier\n",
    "from sklearn.neighbors import KNeighborsClassifier\n",
    "from sklearn.model_selection import GridSearchCV, StratifiedKFold, RandomizedSearchCV\n",
    "\n",
    "\n",
    "def best_model(model_list, X_train, y_train):\n",
    "    \"\"\"\n",
    "    Runs a randomized search of 10 iters, and strat-kfold cv\n",
    "    And produces a list of classifiers - parameters - scores\n",
    "    for the best of each type of model\n",
    "    \n",
    "    To change it to ONLY spit out the best model, replace \n",
    "    \n",
    "    'return classifier' \n",
    "    \n",
    "    for\n",
    "    \n",
    "    'return best_classifier[1]'\n",
    "    \"\"\"\n",
    "    best_score = 0.0\n",
    "    best_classifier = None\n",
    "    classifiers = []\n",
    "    for name, model, parameters in model_list:\n",
    "        classifiers.append(best_config(name, model, parameters,\n",
    "                                       X_train,\n",
    "                                       y_train))\n",
    " \n",
    "    for name, score, classifier in classifiers:\n",
    "        if (score > best_score):\n",
    "            best_score = score\n",
    "            best_classifier = [name, classifier]\n",
    "    return classifiers\n",
    "\n",
    "def best_config(name, model, parameters, X_train, y_train):\n",
    "    \"\"\"\n",
    "    A simple GridSearch \n",
    "    Requires: model, parameters, X & y variables\n",
    "    +\n",
    "    \"\"\"\n",
    "    print(\"Searching \"+str(name))\n",
    "    clf = RandomizedSearchCV(model, parameters[0], \n",
    "                             scoring='roc_auc', cv=StratifiedKFold(n_splits=4), \n",
    "                            n_iter=80, verbose=1, n_jobs=2)\n",
    "    clf.fit(X_train, y_train)\n",
    "    print(\"Finished \"+str(name))\n",
    "    print('')\n",
    "    return [str(clf.best_params_), \n",
    "            clf.best_score_, \n",
    "            clf.best_estimator_]\n",
    "\n",
    "def model_list():\n",
    "    \n",
    "    \"\"\"\n",
    "    Generates a list of models & params,\n",
    "    Add more manually, for more options\n",
    "    gb = GradientBoostingClassifier()\n",
    "    rf = RandomForestClassifier()\n",
    "    bg = BaggingClassifier()\n",
    "    ad = AdaBoostClassifier()\n",
    "    knn = KNeighborsClassifier()\n",
    "    \"\"\"\n",
    "    \n",
    "    models = []    \n",
    "\n",
    "    \n",
    "    #gradient\n",
    "    gb_tuned_parameters = [{\"n_estimators\": [x for x in range(100, 400, 2)],\n",
    "                            'min_samples_split' : [2, 3, 4]}]\n",
    "    models.append(['GB', GradientBoostingClassifier(), gb_tuned_parameters])\n",
    " \n",
    "    #random forest\n",
    "    rf_tuned_parameters = [{'n_estimators' : [x for x in range(100, 400, 2)],\n",
    "                            'min_samples_split' : [2, 3, 4]}]\n",
    "    models.append([\"RandomForest\",RandomForestClassifier(n_jobs=-1),rf_tuned_parameters])\n",
    "\n",
    "    #Bagged\n",
    "    bg_tuned_parameters = [{\"n_estimators\": [x for x in range(100, 400, 2)]}]\n",
    "    models.append(['BG', BaggingClassifier(), bg_tuned_parameters])\n",
    "\n",
    "    #Ada Model\n",
    "    ad_tuned_parameters = [{\"n_estimators\": [x for x in range(100, 400, 2)]}]\n",
    "    models.append(['AD', AdaBoostClassifier(), ad_tuned_parameters])\n",
    "    \n",
    "    \"\"\"\n",
    "    #kNN Model\n",
    "    knn_tuned_parameters = [{\"n_neighbors\": [1, 3, 5, 10, 20], \n",
    "                             'weights':['uniform','distance'],\n",
    "                            'metric':['euclidean','manhattan']}]\n",
    "    models.append([\"kNN\", KNeighborsClassifier(),knn_tuned_parameters])\n",
    "    \"\"\"\n",
    "    \n",
    "    return models"
   ]
  },
  {
   "cell_type": "code",
   "execution_count": 26,
   "metadata": {},
   "outputs": [
    {
     "name": "stdout",
     "output_type": "stream",
     "text": [
      "Searching GB\n",
      "Fitting 4 folds for each of 80 candidates, totalling 320 fits\n"
     ]
    },
    {
     "name": "stderr",
     "output_type": "stream",
     "text": [
      "[Parallel(n_jobs=2)]: Done  46 tasks      | elapsed:  1.5min\n",
      "[Parallel(n_jobs=2)]: Done 196 tasks      | elapsed:  5.6min\n",
      "[Parallel(n_jobs=2)]: Done 320 out of 320 | elapsed:  9.0min finished\n"
     ]
    },
    {
     "name": "stdout",
     "output_type": "stream",
     "text": [
      "Finished GB\n",
      "\n",
      "Searching RandomForest\n",
      "Fitting 4 folds for each of 80 candidates, totalling 320 fits\n"
     ]
    },
    {
     "name": "stderr",
     "output_type": "stream",
     "text": [
      "[Parallel(n_jobs=2)]: Done  46 tasks      | elapsed:  1.2min\n",
      "[Parallel(n_jobs=2)]: Done 196 tasks      | elapsed:  5.2min\n",
      "[Parallel(n_jobs=2)]: Done 320 out of 320 | elapsed:  8.1min finished\n"
     ]
    },
    {
     "name": "stdout",
     "output_type": "stream",
     "text": [
      "Finished RandomForest\n",
      "\n",
      "Searching BG\n",
      "Fitting 4 folds for each of 80 candidates, totalling 320 fits\n"
     ]
    },
    {
     "name": "stderr",
     "output_type": "stream",
     "text": [
      "[Parallel(n_jobs=2)]: Done  46 tasks      | elapsed:  3.8min\n",
      "[Parallel(n_jobs=2)]: Done 196 tasks      | elapsed: 19.4min\n",
      "[Parallel(n_jobs=2)]: Done 320 out of 320 | elapsed: 31.7min finished\n"
     ]
    },
    {
     "name": "stdout",
     "output_type": "stream",
     "text": [
      "Finished BG\n",
      "\n",
      "Searching AD\n",
      "Fitting 4 folds for each of 80 candidates, totalling 320 fits\n"
     ]
    },
    {
     "name": "stderr",
     "output_type": "stream",
     "text": [
      "[Parallel(n_jobs=2)]: Done  46 tasks      | elapsed:  1.2min\n",
      "[Parallel(n_jobs=2)]: Done 196 tasks      | elapsed:  5.0min\n",
      "[Parallel(n_jobs=2)]: Done 320 out of 320 | elapsed:  8.6min finished\n"
     ]
    },
    {
     "name": "stdout",
     "output_type": "stream",
     "text": [
      "Finished AD\n",
      "\n"
     ]
    }
   ],
   "source": [
    "GS_model = best_model(model_list(),X_train,y_train)"
   ]
  },
  {
   "cell_type": "code",
   "execution_count": 33,
   "metadata": {},
   "outputs": [
    {
     "data": {
      "text/plain": [
       "[[\"{'n_estimators': 114, 'min_samples_split': 2}\",\n",
       "  0.8478194965881999,\n",
       "  GradientBoostingClassifier(criterion='friedman_mse', init=None,\n",
       "                learning_rate=0.1, loss='deviance', max_depth=3,\n",
       "                max_features=None, max_leaf_nodes=None,\n",
       "                min_impurity_decrease=0.0, min_impurity_split=None,\n",
       "                min_samples_leaf=1, min_samples_split=2,\n",
       "                min_weight_fraction_leaf=0.0, n_estimators=114,\n",
       "                presort='auto', random_state=None, subsample=1.0, verbose=0,\n",
       "                warm_start=False)],\n",
       " [\"{'n_estimators': 232, 'min_samples_split': 4}\",\n",
       "  0.8219278383711053,\n",
       "  RandomForestClassifier(bootstrap=True, class_weight=None, criterion='gini',\n",
       "              max_depth=None, max_features='auto', max_leaf_nodes=None,\n",
       "              min_impurity_decrease=0.0, min_impurity_split=None,\n",
       "              min_samples_leaf=1, min_samples_split=4,\n",
       "              min_weight_fraction_leaf=0.0, n_estimators=232, n_jobs=-1,\n",
       "              oob_score=False, random_state=None, verbose=0,\n",
       "              warm_start=False)],\n",
       " [\"{'n_estimators': 354}\",\n",
       "  0.8153483050615219,\n",
       "  BaggingClassifier(base_estimator=None, bootstrap=True,\n",
       "           bootstrap_features=False, max_features=1.0, max_samples=1.0,\n",
       "           n_estimators=354, n_jobs=1, oob_score=False, random_state=None,\n",
       "           verbose=0, warm_start=False)],\n",
       " [\"{'n_estimators': 130}\",\n",
       "  0.8381141925406264,\n",
       "  AdaBoostClassifier(algorithm='SAMME.R', base_estimator=None,\n",
       "            learning_rate=1.0, n_estimators=130, random_state=None)]]"
      ]
     },
     "execution_count": 33,
     "metadata": {},
     "output_type": "execute_result"
    }
   ],
   "source": [
    "#generates the best of each classifier & their scores\n",
    "GS_model"
   ]
  },
  {
   "cell_type": "markdown",
   "metadata": {},
   "source": [
    "### Model Evaluations"
   ]
  },
  {
   "cell_type": "code",
   "execution_count": 34,
   "metadata": {},
   "outputs": [],
   "source": [
    "#selects the model from the dict-grid search\n",
    "best_model = GS_model[0][2]\n",
    "from sklearn.metrics import roc_curve, auc"
   ]
  },
  {
   "cell_type": "code",
   "execution_count": 35,
   "metadata": {},
   "outputs": [
    {
     "data": {
      "image/png": "[encoded data removed]",
      "text/plain": [
       "<matplotlib.figure.Figure at 0x1a13efef28>"
      ]
     },
     "metadata": {},
     "output_type": "display_data"
    }
   ],
   "source": [
    "best_model.fit(X_train, y_train)\n",
    "best_model.score(X_test,y_test)\n",
    "probs = best_model.predict_proba(X_test)\n",
    "preds = probs[:,1]\n",
    "fpr, tpr, threshold = roc_curve(y_test, preds)\n",
    "roc_auc = auc(fpr, tpr)\n",
    "\n",
    "# method I: plt\n",
    "import matplotlib.pyplot as plt\n",
    "plt.title('Receiver Operating Characteristic')\n",
    "plt.plot(fpr, tpr, 'b', label = 'AUC = %0.2f' % roc_auc)\n",
    "plt.legend(loc = 'lower right')\n",
    "plt.plot([0, 1], [0, 1],'r--')\n",
    "#plt.xlim([0, 1])\n",
    "#plt.ylim([0, 1])\n",
    "plt.ylabel('True Positive Rate')\n",
    "plt.xlabel('False Positive Rate')\n",
    "plt.show()"
   ]
  },
  {
   "cell_type": "code",
   "execution_count": 14,
   "metadata": {},
   "outputs": [
    {
     "data": {
      "text/plain": [
       "0.80082970244932272"
      ]
     },
     "execution_count": 14,
     "metadata": {},
     "output_type": "execute_result"
    }
   ],
   "source": [
    "from sklearn.metrics import roc_auc_score\n",
    "gb= GradientBoostingClassifier(n_estimators = 75,\n",
    "                               min_samples_split= 4, max_depth = 3, \n",
    "                              learning_rate = .05)\n",
    "gb.fit(X_train,y_train)\n",
    "predProb = gb.predict_proba(X_test)\n",
    "roc_auc_score(y_test, predProb[:,1])"
   ]
  },
  {
   "cell_type": "code",
   "execution_count": 81,
   "metadata": {
    "scrolled": false
   },
   "outputs": [],
   "source": [
    "rf = RandomForestClassifier(n_jobs = -1, n_estimators = 200)\n",
    "rf.fit(X, target)\n",
    "predProb = rf.predict_proba(X)\n",
    "roc_auc_score(target, predProb[:,1])\n",
    "\n",
    "testProb = rf.predict_proba(Ftest2)[:,1]"
   ]
  },
  {
   "cell_type": "code",
   "execution_count": 82,
   "metadata": {},
   "outputs": [
    {
     "data": {
      "text/plain": [
       "1.0"
      ]
     },
     "execution_count": 82,
     "metadata": {},
     "output_type": "execute_result"
    }
   ],
   "source": [
    "roc_auc_score(target, predProb[:,1])"
   ]
  },
  {
   "cell_type": "code",
   "execution_count": 17,
   "metadata": {},
   "outputs": [
    {
     "data": {
      "text/plain": [
       "0.82247704361552632"
      ]
     },
     "execution_count": 17,
     "metadata": {},
     "output_type": "execute_result"
    }
   ],
   "source": [
    "bg = AdaBoostClassifier()\n",
    "bg.fit(X_train,y_train)\n",
    "predProb = bg.predict_proba(Ftest2)\n",
    "roc_auc_score(y_test, predProb[:,1])"
   ]
  },
  {
   "cell_type": "markdown",
   "metadata": {},
   "source": [
    "### predictions for Kaggle"
   ]
  },
  {
   "cell_type": "code",
   "execution_count": 37,
   "metadata": {},
   "outputs": [],
   "source": [
    "predProb = best_model.predict_proba(Ftest2)[:,1]"
   ]
  },
  {
   "cell_type": "code",
   "execution_count": 40,
   "metadata": {},
   "outputs": [],
   "source": [
    "dfs = pd.DataFrame(predProb)\n",
    "dfs.columns = ['WnvPresent']\n",
    "dfs['Id'] = range(1,len(dfs)+1)\n",
    "dfs.index = range(1, len(dfs)+1)\n",
    "dfs = dfs[['Id','WnvPresent']]\n",
    "dfs.to_csv('preds3.csv', index = False)"
   ]
  },
  {
   "cell_type": "code",
   "execution_count": null,
   "metadata": {
    "collapsed": true
   },
   "outputs": [],
   "source": [
    "predProb = bg.predict_proba()"
   ]
  }
 ],
 "metadata": {
  "kernelspec": {
   "display_name": "Python [default]",
   "language": "python",
   "name": "python3"
  },
  "language_info": {
   "codemirror_mode": {
    "name": "ipython",
    "version": 3
   },
   "file_extension": ".py",
   "mimetype": "text/x-python",
   "name": "python",
   "nbconvert_exporter": "python",
   "pygments_lexer": "ipython3",
   "version": "3.6.4"
  }
 },
 "nbformat": 4,
 "nbformat_minor": 2
}
